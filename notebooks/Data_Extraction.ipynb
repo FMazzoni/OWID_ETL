{
  "cells": [
    {
      "cell_type": "code",
      "execution_count": 1,
      "metadata": {
        "id": "cZDO5T067Tru"
      },
      "outputs": [],
      "source": [
        "import pandas as pd\n",
        "import sqlite3 as sql\n",
        "import numpy as np\n",
        "import os\n",
        "import glob\n",
        "\n",
        "import sqlite3\n",
        "from sqlite3 import Error"
      ]
    },
    {
      "cell_type": "markdown",
      "metadata": {},
      "source": [
        "# Downloading Zipped Data From Github"
      ]
    },
    {
      "cell_type": "code",
      "execution_count": 2,
      "metadata": {},
      "outputs": [],
      "source": [
        "data_path = '../data/raw/owid-datasets-master/datasets/'\n",
        "data_path = os.path.realpath(data_path)\n",
        "folders = os.listdir(data_path)"
      ]
    },
    {
      "cell_type": "code",
      "execution_count": 3,
      "metadata": {},
      "outputs": [
        {
          "output_type": "execute_result",
          "data": {
            "text/plain": [
              "['.gitkeep', 'Data_Extraction.ipynb', 'OWID.db', 'Scrapping.ipynb']"
            ]
          },
          "metadata": {},
          "execution_count": 3
        }
      ],
      "source": [
        "os.listdir()"
      ]
    },
    {
      "source": [
        "Below may not work if Windows 10 Long path name not enabled. Otherwise Windows cannot open files larger than 260 charachters. One can alternatively construct the SQL Database at this step, likely more effient."
      ],
      "cell_type": "markdown",
      "metadata": {}
    },
    {
      "cell_type": "code",
      "execution_count": 4,
      "metadata": {},
      "outputs": [],
      "source": [
        "titles = []\n",
        "dfs = []\n",
        "for folder in folders[:]:\n",
        "    rel_path = os.path.join(data_path, folder)\n",
        "    for file in os.listdir(rel_path):\n",
        "        if file.endswith('.csv'):\n",
        "            final_path = os.path.join(rel_path, file)\n",
        "            df = pd.read_csv(final_path)\n",
        "            dfs.append(df)\n",
        "            titles.append(folder)"
      ]
    },
    {
      "source": [
        "## Using SQL"
      ],
      "cell_type": "markdown",
      "metadata": {}
    },
    {
      "source": [
        "OWID_db = '../data/raw/owid-datasets-master/'+ \"OWID.db\"\n",
        "conn = sqlite3.connect(OWID_db)\n",
        "for title, df in zip(titles, dfs):\n",
        "  df.to_sql(title, conn, index=False)\n",
        "conn.close()"
      ],
      "cell_type": "code",
      "metadata": {
        "tags": []
      },
      "execution_count": 5,
      "outputs": [
        {
          "output_type": "stream",
          "name": "stderr",
          "text": [
            "C:\\Users\\Ferna\\anaconda3\\lib\\site-packages\\pandas\\core\\generic.py:2602: UserWarning: The spaces in these column names will not be changed. In pandas versions < 0.14, spaces were converted to underscores.\n  sql.to_sql(\n"
          ]
        }
      ]
    },
    {
      "cell_type": "code",
      "execution_count": 6,
      "metadata": {},
      "outputs": [],
      "source": [
        "conn = sqlite3.connect(OWID_db)\n",
        "cursor = conn.cursor()\n",
        "cursor.execute(\"SELECT name FROM sqlite_master WHERE type='table';\")\n",
        "tables = cursor.fetchall()"
      ]
    },
    {
      "cell_type": "code",
      "execution_count": 7,
      "metadata": {},
      "outputs": [
        {
          "output_type": "execute_result",
          "data": {
            "text/plain": [
              "           Entity  Year  Youth mortality rates (0-14)\n",
              "0     Afghanistan  1977                     297.48592\n",
              "1     Afghanistan  1978                     289.08271\n",
              "2     Afghanistan  1979                     280.57551\n",
              "3     Afghanistan  1980                     272.02735\n",
              "4     Afghanistan  1981                     263.45558\n",
              "...           ...   ...                           ...\n",
              "8300     Zimbabwe  2013                      80.98464\n",
              "8301     Zimbabwe  2014                      75.18350\n",
              "8302     Zimbabwe  2015                      70.86210\n",
              "8303     Zimbabwe  2016                      66.93248\n",
              "8304     Zimbabwe  2017                      63.69077\n",
              "\n",
              "[8305 rows x 3 columns]"
            ],
            "text/html": "<div>\n<style scoped>\n    .dataframe tbody tr th:only-of-type {\n        vertical-align: middle;\n    }\n\n    .dataframe tbody tr th {\n        vertical-align: top;\n    }\n\n    .dataframe thead th {\n        text-align: right;\n    }\n</style>\n<table border=\"1\" class=\"dataframe\">\n  <thead>\n    <tr style=\"text-align: right;\">\n      <th></th>\n      <th>Entity</th>\n      <th>Year</th>\n      <th>Youth mortality rates (0-14)</th>\n    </tr>\n  </thead>\n  <tbody>\n    <tr>\n      <th>0</th>\n      <td>Afghanistan</td>\n      <td>1977</td>\n      <td>297.48592</td>\n    </tr>\n    <tr>\n      <th>1</th>\n      <td>Afghanistan</td>\n      <td>1978</td>\n      <td>289.08271</td>\n    </tr>\n    <tr>\n      <th>2</th>\n      <td>Afghanistan</td>\n      <td>1979</td>\n      <td>280.57551</td>\n    </tr>\n    <tr>\n      <th>3</th>\n      <td>Afghanistan</td>\n      <td>1980</td>\n      <td>272.02735</td>\n    </tr>\n    <tr>\n      <th>4</th>\n      <td>Afghanistan</td>\n      <td>1981</td>\n      <td>263.45558</td>\n    </tr>\n    <tr>\n      <th>...</th>\n      <td>...</td>\n      <td>...</td>\n      <td>...</td>\n    </tr>\n    <tr>\n      <th>8300</th>\n      <td>Zimbabwe</td>\n      <td>2013</td>\n      <td>80.98464</td>\n    </tr>\n    <tr>\n      <th>8301</th>\n      <td>Zimbabwe</td>\n      <td>2014</td>\n      <td>75.18350</td>\n    </tr>\n    <tr>\n      <th>8302</th>\n      <td>Zimbabwe</td>\n      <td>2015</td>\n      <td>70.86210</td>\n    </tr>\n    <tr>\n      <th>8303</th>\n      <td>Zimbabwe</td>\n      <td>2016</td>\n      <td>66.93248</td>\n    </tr>\n    <tr>\n      <th>8304</th>\n      <td>Zimbabwe</td>\n      <td>2017</td>\n      <td>63.69077</td>\n    </tr>\n  </tbody>\n</table>\n<p>8305 rows × 3 columns</p>\n</div>"
          },
          "metadata": {},
          "execution_count": 7
        }
      ],
      "source": [
        "pd.read_sql( 'SELECT * FROM \"%s\" '  % (tables[-1][0]), conn)"
      ]
    },
    {
      "source": [
        "# Scrapping Data from Github OWID Datasets"
      ],
      "cell_type": "markdown",
      "metadata": {
        "id": "G0C5HW2lEPR-"
      }
    },
    {
      "cell_type": "code",
      "execution_count": 2,
      "metadata": {
        "id": "Qx1gTeSG8Stc"
      },
      "outputs": [],
      "source": [
        "import bs4\n",
        "import requests"
      ]
    },
    {
      "cell_type": "code",
      "execution_count": 3,
      "metadata": {
        "id": "8kQQtiPu8Yml"
      },
      "outputs": [],
      "source": [
        "url = \"https://github.com/owid/owid-datasets/tree/master/datasets\"\n",
        "\n",
        "webpage = requests.get(url).text"
      ]
    },
    {
      "cell_type": "code",
      "execution_count": 4,
      "metadata": {
        "id": "W-AXmUoF9LxL"
      },
      "outputs": [],
      "source": [
        "soup = bs4.BeautifulSoup(webpage)"
      ]
    },
    {
      "cell_type": "code",
      "execution_count": 5,
      "metadata": {
        "id": "aSP0mIXB9Xww"
      },
      "outputs": [],
      "source": [
        "results = soup.find_all('a', {'class':'js-navigation-open Link--primary'})\n",
        "\n",
        "links =[]\n",
        "titles = []\n",
        "for result in results:\n",
        "  rel_short_link = result['href'].split('/')[-1]\n",
        "  data_url = 'https://raw.githubusercontent.com/owid/owid-datasets/master/datasets/' + rel_short_link+ '/'+rel_short_link+'.csv'\n",
        "  \n",
        "  titles.append(result['title'])\n",
        "  links.append(data_url) \n",
        "# class=\"js-navigation-open Link--primary\""
      ]
    },
    {
      "cell_type": "code",
      "execution_count": 6,
      "metadata": {
        "id": "rGQ-cRXIBqSx"
      },
      "outputs": [],
      "source": [
        "df = pd.read_csv(links[-1])"
      ]
    },
    {
      "cell_type": "code",
      "execution_count": 7,
      "metadata": {
        "colab": {
          "base_uri": "https://localhost:8080/"
        },
        "id": "hUgTfW-2Spn3",
        "outputId": "1b61f0d2-b7e8-4d5b-d4c2-b1c4d9249207"
      },
      "outputs": [
        {
          "output_type": "execute_result",
          "data": {
            "text/plain": [
              "[' Literacy by years of schooling US 1947 – OECD (2014) ',\n",
              " ' Literate world population (OurWorldInData based on OECD and UNESCO)',\n",
              " '20th century deaths in US - CDC',\n",
              " 'A Century of Work and Leisure - Ramey and Francis (2009)',\n",
              " 'Abortion rates (per 1000 women) - Sedgh et al. (2016)']"
            ]
          },
          "metadata": {},
          "execution_count": 7
        }
      ],
      "source": [
        "titles[:5]"
      ]
    },
    {
      "cell_type": "markdown",
      "metadata": {
        "id": "f6aYNSPQEY4e"
      },
      "source": [
        "## Using SQL\n"
      ]
    },
    {
      "cell_type": "code",
      "execution_count": 8,
      "metadata": {},
      "outputs": [],
      "source": [
        "OWID_db = '../data/raw/owid-datasets-master/'+ \"OWID.db\"\n"
      ]
    },
    {
      "cell_type": "code",
      "execution_count": 9,
      "metadata": {
        "colab": {
          "base_uri": "https://localhost:8080/"
        },
        "id": "ElS6OxTqSwJn",
        "outputId": "84c4c93a-eebe-41ef-febf-41ffa492b3c9",
        "tags": [
          "outputPrepend"
        ]
      },
      "outputs": [
        {
          "output_type": "stream",
          "name": "stderr",
          "text": [
            "14)\n",
            "Ozone depletion impacts on skin cancer incidence - Slaper et al.\n",
            "Ozone hole area and concentration - NASA\n",
            "Ozone-depleting emissions index - EEA\n",
            "PM2.5 concentration - State of Global Air (2017)\n",
            "Parties to Montreal Protocol - UNEP\n",
            "Patent and publication rates  - OWID based on World Bank & UN\n",
            "Patents awarded in England, Scotland and Wales - Bottomley\n",
            "Peak Farmland Projection - Ausbuel et al. (2013)\n",
            "Penn World Table 9.0 - OWID's team elaboration\n",
            "People experiencing homelessness in the USA (PIT) by sheltering status - HUD (2016)\n",
            "Per capita energy use - World Bank (2017)\n",
            "Per capita pathways for 1.5C and 2C - OWID based on CAT\n",
            "Percentage deaths attributable to risk factors - IHME\n",
            "Percentage gained access to improved water and sanitation 1990-2015 - WHO\n",
            "Percentage of Americans living alone, by age - IPUMS\n",
            "Percentage of Individuals using the Internet (ICT) - ITU (2015)\n",
            "Percentage of adults living alone in the US and Canada- US Census Bureau & Statistics Canada\n",
            "Percentage of persons without health insurance - Council of Economic Advisers and National Center fo\n",
            "Percentage point change in $1.90 poverty (World Bank, 2017)\n",
            "Perceptions of spending on health expenditure - IPSOS (2016)\n",
            "Phosphate fertilizers - FAO (2017)\n",
            "Pieces of mail and number of post offices - United States Postal Service (2018)\n",
            "Plastic Waste - Jambeck et al. (2015)\n",
            "Plastic bag substitute comparisons (Danish EPA, 2018)\n",
            "Plastic discarded, recycled, incinerated - Geyer et al. (2017)\n",
            "Plastic importers to China - Brooks et al. (2018)\n",
            "Plastic imports by China & impact of ban - Brooks et al. (2018)\n",
            "Plastic inputs from rivers - Lebreton et al. (2017)\n",
            "Plastic ocean pollution (Meijer et al. 2021)\n",
            "Plastic pollution by top 50 rivers (Meijer et al. 2021)\n",
            "Plastic product lifetime, production, waste by source - Geyer et al. (2017)\n",
            "Plastic waste generation by country - OWID based on Jambeck et al. & World Bank\n",
            "Plastic waste percentages - Jambeck et al. (2015)\n",
            "PolcalNet Global Poverty (2017)\n",
            "Political Competition and Participation (How Was Life, OECD (2014))\n",
            "Political Regime - OWID based on Polity IV and Wimmer & Min\n",
            "Political Regimes — V-Dem (2019)\n",
            "Polity IV + Wimmer and Min - Our World In Data (2006)\n",
            "Polity IV Index\n",
            "Population (Clio-infra (2016)), with Island of Ireland (Rep. + Northern)\n",
            "Population (Gapminder, HYDE (2016) & UN (2019))\n",
            "Population Density - HYDE and UN Population Division (2008 Revision)\n",
            "Population Dynamics and Global Human Capital - IIASA (2015)\n",
            "Population Estimates and Projection - Wittgenstein Centre for Demography and Global Human Capital\n",
            "Population Growth -  UN Population Division (2015 revision)\n",
            "Population by Country - Clio Infra (2016)\n",
            "Population by age group to 2100 (based on UNWPP, 2017 medium scenario)\n",
            "Population by country, 1800 to 2100 (Gapminder & UN)\n",
            "Population by income group (World Bank (2017))\n",
            "Population by region (HYDE (2016) & UN (2019))\n",
            "Population covered by the internet - Internet World Stats (2019)\n",
            "Population data (Gapminder up to 1949; UN Population Division 1950 to 2015)\n",
            "Population fed by Haber-Bosch fertilizers - FAO (2017)\n",
            "Population growth 1992-2015 (listed 2017) (UN Population Division 2015)\n",
            "Population growth rate by region, 1955-2015 - UN Population Division (2015 revision)\n",
            "Population growth rate by region, 2020-2100 medium variant projection - UN Population Division (2015\n",
            "Population of the Island of Ireland, 1500-2000\n",
            "Population using informal saving (%) - World Bank World Development Report (2013)\n",
            "Postage rates - United States Postal Service (2018)\n",
            "Potash fertilizers - FAO (2017)\n",
            "Poverty Absolute Number by Region ($1.90) - World Bank (Povcal) (2016)\n",
            "Poverty Measures - World Bank (WDI) (2017)\n",
            "Poverty Share by Region ($1.90) - World Bank (PovcalNet) (2016)\n",
            "Poverty headcount (below $3.10 per day, 2011 PPP) - World Bank (WDI) (2016)\n",
            "Poverty headcount at $1.90 a day (2011 PPP) - High-income - World Bank (Povcal) (2017)\n",
            "Poverty headcount at $1.90 a day (2011 PPP) - World Bank (WDI) 2017\n",
            "Poverty rate (!50% of median) (LIS Key Figures, 2018)\n",
            "Precipitation anomaly in US (NOAA)\n",
            "Press Freedom - Reporters sans Frontieres (2019)\n",
            "Prevalence of Overweight Adults - WHO (2019)\n",
            "Prevalence of Undernourishment in Developing Countries - FAO (Food Security Indicators) (2017)\n",
            "Prevalence of Vitamin A deficiency in children - WHO (2017)\n",
            "Prevalence of alcohol drinking in the USA - CDC\n",
            "Prevalence of undernourishment - FAO (Food Security Indicators) (2017)\n",
            "Prevalence of undernourishment - World Bank (2017) & UN SOFI (2018)\n",
            "Prevalence of undernourishment by region - UN FAO SOFI (2017 & 2018)\n",
            "Prevalence of undernourishment since 2000 (FAOstats, 2018)\n",
            "Prevalence of vitamin-A deficiency in pregnant women - WHO (2009)\n",
            "Prevalence of weight categories in females - NCDRisC (2017)\n",
            "Prevalence of weight categories in males - NCDRisC (2017)\n",
            "Prevalence of zinc deficiency - Wessells et al. (2012)\n",
            "Price for Light – Fouquet\n",
            "Price of mobile data - Alliance for Affordable Internet (2019)\n",
            "Price of nails since 1695 (Daniel Sichels (2017))\n",
            "Primary energy consumption (BP & Shift, 2020)\n",
            "Prisoners per 100 000 from World Prison Brief (downloaded September 2018)_country_standardized\n",
            "Product Complexity Index (PCI) - Observatory of Economic Complexity (2016)\n",
            "Production Value by Industry (KZ)\n",
            "Projected change in under-5 population by country 2015, 2050, 2100 - OWID based on UN Population (20\n",
            "Projected extreme poverty among different groupings of fragile states (Crespo Cuaresma et al, 2018; \n",
            "Projections of peak agricultural land - FAO (2006), OECD (2012), MEA (2005)\n",
            "Proportion of 45-54 year-olds with tertiary education 2009 - OECD (2012)\n",
            "Proportion of children under 5 years of age who are developmentally on track - UNICEF\n",
            "Proportion of seats held by women in national parliaments (%) - World Bank (WDI) (2017)\n",
            "Proportion of youth and adults with ICT skills - UNESCO\n",
            "Public Expenditure on Education OECD - Tanzi & Schuktnecht (2000)\n",
            "Public expenditure on health %GDP – OWID based on WHO and historical estimates\n",
            "Public expenditure on health in the long run - Lindert (1994), OECD, WHO\n",
            "Public support and opposition to nuclear energy- Ipsos MORI (2011)\n",
            "Public support for nuclear energy- Ipsos Mori\n",
            "RAND Database of Worldwide Terrorism Incidents\n",
            "Raised Blood Pressure Prevalence - NCD RisC (2017)\n",
            "Rate of Natural Population Increase – UN Population Division (2015)\n",
            "Rate of internationally observed elections - Hyde and Marinov (2012)\n",
            "Rate of internationally observed elections - Susan Hyde (2011)\n",
            "Real Commodity Price Index since 1850 - Jacks (2016)\n",
            "Real GDP at chained PPPs in 2011 US$ - Penn World Table 9.0 (2016)\n",
            "Real GDP per capita, London and Delhi - OWID\n",
            "Recycled plastic exports - Brooks et al. (2018)\n",
            "Relative earnings of adults, by educational attainment - Education at a Glance 2017! OECD Indicators\n",
            "Relative wages of craftsmen to labourers, 1200-2000 - Clark (2005)\n",
            "Religious Composition - Pew (2017)\n",
            "Renewable Energy (% electricity production) - World Bank (2015)\n",
            "Renewable Energy Capacity by Region - IRENA (2017)\n",
            "Renewable Energy Capacity by Technology - IRENA (2017)\n",
            "Renewable Investment as % of GDP - BNEP and World Bank\n",
            "Renewable energy costs (IRENA, 2020)\n",
            "Renewables Patents - IRENA (2016)\n",
            "Reported cases of measles, 1980-2019 - WHO (2019)\n",
            "Reported number and different estimations of polio cases (WHO, 2018)\n",
            "Required rate of maternal mortality decline for SDG - based on World Bank (2018)\n",
            "Reserves-Production Ratio - BP Statistics (2016)\n",
            "Revenue shares from tax – Flora (1983) and ICTD (2016)\n",
            "Rhino poaching rates (AfRSG, 2019)\n",
            "Rhino populations (AfRSG & other sources, 2019)\n",
            "Risk attribution of cancer deaths to tobacco smoking - IHME\n",
            "Road deaths and injuries - OECD\n",
            "Rotavirus deaths and cases in under-5s (IHME, 2018)\n",
            "Rough Sleeping in England in the 2010s - OWID based on UK National Statistics (2018)\n",
            "Rural & urban BMI - NCD RisC (2018)\n",
            "SEDLAC (for IARC paper)\n",
            "SO2 emissions by country (1850-2000) - Clio Infra\n",
            "SO2 emissions by region - OECD (2014) and Klimont et al. (2013)\n",
            "SO2 emissions, China and India - Klimont et al. (2013) \n",
            "SO2 per capita - Clio Infra\n",
            "SRES A1 - GDP per capita; downscaling by Pretis & Roser (2016)\n",
            "Same sex marriage law (Pew Research Center, CFR)\n",
            "Same-sex marriages by sex in the Netherlands – CBS (2016)\n",
            "Same-sex married households in the US\n",
            "School Attendance – UNESCO (2015)\n",
            "Self-reported loneliness in older adults - OWID (2018)\n",
            "Sex ratio at birth (Chao et al. 2019)\n",
            "Sex ratio at birth by birth order in S.Korea & China (Jiang et al. 2017 & NSO Korea)\n",
            "Sex ratio by age (OWID based on UNWPP, 2017)\n",
            "Sexual Violence – UNICEF (2017)\n",
            "Share of Top 1% in net personal wealth – World Wealth and Income Database (2018)\n",
            "Share of arable land which is organic - OWID based on FAO\n",
            "Share of countries where homosexuality is legal – OWID based on Kenny & Patel (2017)\n",
            "Share of deaths attributed to air pollution (IHME, 2019)\n",
            "Share of deaths by risk factor (IHME, 2019)\n",
            "Share of employment in the financial sector (GGDC, 2017)\n",
            "Share of energy from cereals, roots and tubers - FAO (2017)\n",
            "Share of food lost by food type and region (FAO, 2019)\n",
            "Share of global natural gas reserves - BP Statistical Review (2016)\n",
            "Share of global oil reserves - BP Statistical Review (2016)\n",
            "Share of landowners who are female - FAO (2017)\n",
            "Share of marriages in England and Wales that ended in divorce (UK ONS, 2020)\n",
            "Share of people experiencing homelessness in the USA 2007-2016 (per 100,000) - HUD (2016) and U.S. C\n",
            "Share of people who are worried about losing their job - World Values Survey (2014)\n",
            "Share of people who report having intentions to start business - Global Entrepreneurship Monitor\n",
            "Share of population covered by social protection - ASPIRE World Bank (2019)\n",
            "Share of population with access to electricity - World Bank\n",
            "Share of pregnancies end in abortion - Sedgh et al. (2016)\n",
            "Share of primary-school children achieving minimum reading proficiency, rich vs poor - UNESCO\n",
            "Share of services in total exports - WDI (2017)\n",
            "Share of single parent families (UN Population Division 2018)\n",
            "Share of unintended pregnancies ending in abortion - Bearak et al. (2018)\n",
            "Share of women in top income groups – Atkinson, Casarico & Voitchovsky (2018) [OLD]\n",
            "Share of world merchandise trade by type of trade - Fouquin and Hugot (CEPII 2016, Dyadic data)\n",
            "Shark attacks and fatalities - Global Shark Attack File (GSAF) (2018) \n",
            "Significant earthquake events (NGDC-NASA)\n",
            "Significant volcanic eruptions (NGDC-WDS)\n",
            "Smallpox cases by country 1920-1977\n",
            "Smallpox cases reported and revised - Fenner et al. (1988)\n",
            "Smoking cigarette sales (International Smoking Statistics (2017)) \n",
            "Smoking prevalence and cigarette consumption (IHME, GHDx (2012))\n",
            "Social Expenditure in the long run - Lindert 2004; OECD 1985; OECD (SOCX).\n",
            "Solar PV Cumulative Capacity - ITRPV (2016)\n",
            "Solar PV Module Costs & Capacity - Lafond et al. (2017) & IRENA\n",
            "Solar PV System Costs by Country - Barbose & Darghouth (2016)\n",
            "Solar PV Systems Costs - Barbose & Darghouth (2016)\n",
            "Solid fuel use for cooking by region - Bonjour et al. (2013)\n",
            "Son preference in education - World Values Survey (2014)\n",
            "Split of exports to different country groups - OWID calculations based on Fouquin and Hugot (CEPII 2\n",
            "State of Vaccine Confidence - Larson et al (2016)\n",
            "State-based battle deaths since 1946 by world region (UCDP-PRIO)\n",
            "Subnational inequality - OECD based on Royuela et al. (2014))\n",
            "Suicide rates by sex and age (IHME, 2019)\n",
            "Suicide rates in the United States - AFSP (2017)\n",
            "Suicides from pesticides (Mew et al., 2017)\n",
            "Supercomputer power (FLOPS) – TOP500 Database\n",
            "Surface ocean plastic by mass - Eriksen et al. (2014)\n",
            "Surface ocean plastic by particle count - Eriksen et al. (2014)\n",
            "Swedish Historical National Accounts - Schön and Krantz (2007, 2012, 2015)\n",
            "TEST – Poverty explorer dataset – Consumption_and_income_data\n",
            "Tax Revenue - World Bank\n",
            "Tax Revenue – Piketty (2014)\n",
            "Tax composition – !Arroyo Abad  and P. Lindert (2016)\n",
            "Tax composition – Todaro and Smith (2014)\n",
            "Taxes – ICTD GRD (2019)\n",
            "Teacher Absenteeism - Bold et al. (2017)\n",
            "Teaching time lost - World Development Report (2018)\n",
            "Technology Adoption - Isard (1942) and others\n",
            "Technology Diffusion - Comin and Hobijn (2004) and others\n",
            "Temporary accommodation in England - UK Government (2018)\n",
            "Terrain Ruggedness Index - Nunn and Puga (2012)\n",
            "Terrorism incidents, fatalities & injuries (Global Terrorism Database, 2018)\n",
            "Terrorist attack by target type - Global Terrorism Database (2018)\n",
            "Terrorist attacks by type - Global Terrorism Database (2018)\n",
            "Terrorist attacks by weapon type - Global Terrorism Database (2018)\n",
            "Tetanus Neonatal Rate - calculated from WHO incidence (2017) and WDI population data - Hannah Behren\n",
            "The Conference Board Total Economy Database, GDP per capita data (2016) \n",
            "The allocation of time over five decades - Aguiar and Hurst (2006)\n",
            "The world's number and share of vaccinated one-year-olds \n",
            "Time spent on domestic work – UN (2017) and OECD (2014)\n",
            "Time spent, participation time, and participation rates - Eurostat\n",
            "Time that doctors spend with a patient - Das, Hammer, and Leonard (2008)\n",
            "Time use in Finland - Statistics Finland\n",
            "Time use in Sweden - Statistics Sweden\n",
            "Top 1% wealth shares - Chartbook of Economic Inequality (2017)\n",
            "Top Net Personal Wealth Shares – WID (2018)\n",
            "Top income shares – World Wealth and Income Database (2018)\n",
            "Top marginal income tax rate – Reynolds (2008)\n",
            "Total Economy Productivity - OECD\n",
            "Total Economy Productivity Growth - OECD\n",
            "Total Fertility Rate – Gapminder until 1950 then updated UN figures (2015)\n",
            "Total cases of poliomyelitis virus by country and year from 1980 onwards - WHO (2020)\n",
            "Total fertility by region, 1955-2015 - UN Population Division (2015 revision)\n",
            "Total fertility by region, 2020-2100 medium variant projection - UN Population Division (2015 revisi\n",
            "Total gross official disbursements for medical research and basic heath sectors - OECD\n",
            "Total number of workers by sector (GGDC, 2017)\n",
            "Total population - Gapminder, UN Population Division\n",
            "Total population by broad age group, both sexes, 1950-2100 - UN Population Division (2015)\n",
            "Total value of exports by country to world (%GDP) (OWID calculations based on Fouquin and Hugot (CEP\n",
            "Tourism data by World Region - UNWTO (2019)\n",
            "Trade Data - Penn World Tables v8.1 (2015)\n",
            "Trade as share of GDP - World Bank (2016)\n",
            "Trade share by type of trade (OWID calculations based on NBER- United Nations Trade Data 1962-2000)\n",
            "Trade share with capital- and labor-intensive countries (OWID calculations based on Fouquin and Hugo\n",
            "Trade – Giovanni and Tena-Junguito (2016)\n",
            "Trade – World Bank (2016) & OECD Economic Outlook (2007)\n",
            "Transistors per microprocessor - Rupp & Horowitz\n",
            "Tree density (Crowther et al. 2015)\n",
            "Tropical deforestation by country or region (Pendrill et al. (2019))\n",
            "Trust in Govt – OECD\n",
            "Trust in Science and Health Professionals - Wellcome Trust (2019)\n",
            "Trust – Eurostat\n",
            "Trust – US\n",
            "Trust – World Value Survey\n",
            "Tuberculosis by country, world region and world - WHO GHO (2016)\n",
            "Tuberculosis deaths - WHO GHO (2017)\n",
            "UCDP!PRIO Armed Conflict Dataset version 17.2 (direct form UCDP)\n",
            "UK Cholera Death over the long-term - ONS\n",
            "UK Defence Spending - ukpublicspending.com \n",
            "UK Golden Cohort Table\n",
            "UK Nominal wage data, price data, and real wage – Bank of England (!Three centuries of macroeconomic\n",
            "UK electricity production by source - DECC (2016)\n",
            "UN Population Division (2015)\n",
            "UN Population Division (Median Age) (2015)\n",
            "UN Population Division (Median Age) (2017)\n",
            "UN Population by age group to 2100 - UN Population Statistics Division (2017)\n",
            "UNESCO metadata on literacy (UIS (2017))\n",
            "US Corn Yields - USDA (2017) & FAO (2017)\n",
            "US Female Labor Force Participation 1890-2005 - Olivetti (2013)\n",
            "US Maternal Mortality and FLFP Index - OWID (2017)\n",
            "US Measles Cases and Deaths (OWID, 2017)\n",
            "US Opinion on wives working 1936-1998 - OWID compilation\n",
            "US Revenue Public Schools - US Bureau of the Census and NCES (2017)\n",
            "USA Consumer Price Index Goods and Services 1997-2017 - US Bureau of Labor Statistics (2017)\n",
            "USA Polio cases and deaths 1910-2010 - OWID based on US Public Health Service (1910-1951); US Center\n",
            "USA patents granted - US Patent & Trademark Office\n",
            "Unadjusted female-male hourly wage ratios by percentile – Blau, Kahn (2017)\n",
            "Under 5 mortality rate [Our World in Data]\n",
            "Under five mortality rate - UN World Population Prospects (2015)\n",
            "Unemployment rate, ages 15-24, by education - ILOSTAT (2017)\n",
            "Unemployment rate, ages 25-54, by education - ILOSTAT (2017)\n",
            "Unemployment rate, all ages, by education - ILOSTAT (2017)\n",
            "Unintended pregnancy rates (per 1000 women) - Bearak et al. (2018)\n",
            "Union Density - Quality of Government (QoG) (2017)\n",
            "United Nations Peacekeeping\n",
            "United Nations! Human Development Index (HDI)\n",
            "Urban and rural population 1950-2050 - UN World Urbanization Prospects 2018\n",
            "Urban and rural populations in the United States - US Census Bureau (2010)\n",
            "Urban and rural share 1950-2050 - UN World Urbanization Prospects 2018\n",
            "Urban definition - population threshold (UN; 2018)\n",
            "Urban population living in slums (WB WDI)\n",
            "Urbanization and Development in Japan - Kuroda (1986)\n",
            "Urbanization in the long run - OWID based on the UN World Urbanization Prospects 2018 and others\n",
            "Urbanization share (European Commission, Atlas of the Human Planet)\n",
            "Use of different social media sites by demographic groups\n",
            "Vaccine Coverage and Disease Burden - WHO (2017)\n",
            "Value added to GDP by 10 sectors (GGDC, 2017)\n",
            "Value of global merchandise imports and exports - (Fouquin and Hugot (CEPII 2016) National data)\n",
            "Violent Victimization - US Bureau of Justice Statistics (2017)\n",
            "Violent discipline in the US (US General Social Survey (2017))\n",
            "Violent discipline – UNICEF (2017)\n",
            "Volcanic eruption deaths (NGDC!NOAA)\n",
            "Wages in the manufacturing sector vs. several food prices in the US – U.S. Bureau of Labor Statistic\n",
            "Water footprint food products - Mekonnen & Hoekstra\n",
            "Water resources by continent - FAO AQUASTAT\n",
            "Water withdrawals and consumption - Aquastat\n",
            "Watts per MIPS- Kurzweil\n",
            "Wealth (total) by component for various country groupings - World Bank (2017)\n",
            "Wealth as percent national income by wealth type – Piketty (2014)\n",
            "Wealth per capita by component by country - World Bank (2017)\n",
            "Wealth per capita by component for various country groupings - World Bank (2017)\n",
            "Weather fatality rates in the US – OWID based on NOAA and Lopez Holle and population data\n",
            "Weekly home production hours in the USA - Ramey (2009) & Ramey Francis (2009)\n",
            "Whale catch (Rocha et al.; IWC)\n",
            "Whale catch by decade (Rocha et al. & IWC)\n",
            "Whale populations (Pershing et al. 2010)\n",
            "Wheat prices, long run, in England (Makridakis et al. 1997)\n",
            "Who Americans spend time with - American Time Use Survey (2009-2019)\n",
            "Wildfire data in the US (NIFC)\n",
            "Women's Economic Opportunity 2012 - Economist Intelligence Unit (2012)\n",
            "Women's weekly earnings as a percentage of men's - Bureau of Labor Statistics (2017)\n",
            "Women’s Political Representation using Paxton et al (2006), IPU (2017) & WDI (2017) \n",
            "Working Hours Data - Huberman & Minns (2007)\n",
            "World Bank Economy & Growth - World Bank EdStats (2015)\n",
            "World Bank Health - World Bank (2016)\n",
            "World Bank Income Thresholds - World Bank (2017)\n",
            "World Bank! Education Dataset - World Bank (2015)\n",
            "World GDP in 2011 int $ – OWID based on World Bank + Maddison (2017)\n",
            "World Happiness Report (2019)\n",
            "World Population Projections - HYDE and UN Population Division (2017)\n",
            "World Population by Fertility dataset - OWID (2016)\n",
            "World Population by Political Regime they live in - OWID (2016)\n",
            "World Population over 12000 years - various sources (2019)\n",
            "World Poverty Clock\n",
            "World Regions according to the World Bank\n",
            "World conflict death rate since 1989 (various sources)\n",
            "World conflict deaths (various sources)\n",
            "Yaws status and number of reported cases - WHO Global Health Observatory (2018)\n",
            "Year of Maternal and Neonatal Tetanus (MNT) elimination (WHO and KIWANIS, 2018)\n",
            "Year of last Rinderpest case - OIE (2018)\n",
            "Year of last recorded wild poliomyelitis virus - WHO (GPEI) (2017)\n",
            "Year of smallpox eradication by country - WHO (1988)\n",
            "Years of Schooling - based on Lee-Lee (2016), Barro-Lee (2018) and UNDP (2018)\n",
            "YouGov-Imperial COVID-19 Behavior Tracker\n",
            "Youth Mortality Rate - UN IGME (2018)\n"
          ]
        }
      ],
      "source": [
        "OWID_db = '../data/raw/owid-datasets-master/'+ \"OWID.db\"\n",
        "\n",
        "conn = sqlite3.connect(OWID_db)\n",
        "for title, link in zip(titles, links):\n",
        "  df = pd.read_csv(link)\n",
        "  df.to_sql(title, conn, index=False)\n",
        "conn.close()"
      ]
    },
    {
      "cell_type": "code",
      "execution_count": 10,
      "metadata": {
        "id": "7coEV9z9TPEe"
      },
      "outputs": [],
      "source": [
        "conn = sqlite3.connect(OWID_db)\n",
        "cursor = conn.cursor()\n",
        "cursor.execute(\"SELECT name FROM sqlite_master WHERE type='table';\")\n",
        "tables = cursor.fetchall()"
      ]
    },
    {
      "cell_type": "code",
      "execution_count": 11,
      "metadata": {
        "colab": {
          "base_uri": "https://localhost:8080/"
        },
        "id": "-9vOklfxVZKk",
        "outputId": "1f28f35e-24f8-447d-ef55-25dcb8c16db8"
      },
      "outputs": [
        {
          "output_type": "execute_result",
          "data": {
            "text/plain": [
              "993"
            ]
          },
          "metadata": {},
          "execution_count": 11
        }
      ],
      "source": [
        "len(tables)"
      ]
    },
    {
      "cell_type": "code",
      "execution_count": 12,
      "metadata": {
        "colab": {
          "base_uri": "https://localhost:8080/",
          "height": 419
        },
        "id": "WgyR2PLlYshT",
        "outputId": "47fb38b6-13ea-4d42-e3b4-c998e72d82da"
      },
      "outputs": [
        {
          "output_type": "execute_result",
          "data": {
            "text/plain": [
              "           Entity  Year  Youth mortality rates (0-14)\n",
              "0     Afghanistan  1977                     297.48592\n",
              "1     Afghanistan  1978                     289.08271\n",
              "2     Afghanistan  1979                     280.57551\n",
              "3     Afghanistan  1980                     272.02735\n",
              "4     Afghanistan  1981                     263.45558\n",
              "...           ...   ...                           ...\n",
              "8300     Zimbabwe  2013                      80.98464\n",
              "8301     Zimbabwe  2014                      75.18350\n",
              "8302     Zimbabwe  2015                      70.86210\n",
              "8303     Zimbabwe  2016                      66.93248\n",
              "8304     Zimbabwe  2017                      63.69077\n",
              "\n",
              "[8305 rows x 3 columns]"
            ],
            "text/html": "<div>\n<style scoped>\n    .dataframe tbody tr th:only-of-type {\n        vertical-align: middle;\n    }\n\n    .dataframe tbody tr th {\n        vertical-align: top;\n    }\n\n    .dataframe thead th {\n        text-align: right;\n    }\n</style>\n<table border=\"1\" class=\"dataframe\">\n  <thead>\n    <tr style=\"text-align: right;\">\n      <th></th>\n      <th>Entity</th>\n      <th>Year</th>\n      <th>Youth mortality rates (0-14)</th>\n    </tr>\n  </thead>\n  <tbody>\n    <tr>\n      <th>0</th>\n      <td>Afghanistan</td>\n      <td>1977</td>\n      <td>297.48592</td>\n    </tr>\n    <tr>\n      <th>1</th>\n      <td>Afghanistan</td>\n      <td>1978</td>\n      <td>289.08271</td>\n    </tr>\n    <tr>\n      <th>2</th>\n      <td>Afghanistan</td>\n      <td>1979</td>\n      <td>280.57551</td>\n    </tr>\n    <tr>\n      <th>3</th>\n      <td>Afghanistan</td>\n      <td>1980</td>\n      <td>272.02735</td>\n    </tr>\n    <tr>\n      <th>4</th>\n      <td>Afghanistan</td>\n      <td>1981</td>\n      <td>263.45558</td>\n    </tr>\n    <tr>\n      <th>...</th>\n      <td>...</td>\n      <td>...</td>\n      <td>...</td>\n    </tr>\n    <tr>\n      <th>8300</th>\n      <td>Zimbabwe</td>\n      <td>2013</td>\n      <td>80.98464</td>\n    </tr>\n    <tr>\n      <th>8301</th>\n      <td>Zimbabwe</td>\n      <td>2014</td>\n      <td>75.18350</td>\n    </tr>\n    <tr>\n      <th>8302</th>\n      <td>Zimbabwe</td>\n      <td>2015</td>\n      <td>70.86210</td>\n    </tr>\n    <tr>\n      <th>8303</th>\n      <td>Zimbabwe</td>\n      <td>2016</td>\n      <td>66.93248</td>\n    </tr>\n    <tr>\n      <th>8304</th>\n      <td>Zimbabwe</td>\n      <td>2017</td>\n      <td>63.69077</td>\n    </tr>\n  </tbody>\n</table>\n<p>8305 rows × 3 columns</p>\n</div>"
          },
          "metadata": {},
          "execution_count": 12
        }
      ],
      "source": [
        "pd.read_sql( 'SELECT * FROM \"%s\" '  % (tables[-1][0]), conn)"
      ]
    },
    {
      "cell_type": "code",
      "execution_count": null,
      "metadata": {
        "id": "SpMbZvO0btSf"
      },
      "outputs": [],
      "source": []
    },
    {
      "cell_type": "code",
      "execution_count": null,
      "metadata": {
        "id": "kyrOQazdbtPw"
      },
      "outputs": [],
      "source": []
    },
    {
      "cell_type": "code",
      "execution_count": null,
      "metadata": {
        "id": "nIIvoTDnQ-Fz"
      },
      "outputs": [],
      "source": []
    }
  ],
  "metadata": {
    "colab": {
      "collapsed_sections": [],
      "name": "Data_Exploration.ipynb",
      "provenance": []
    },
    "interpreter": {
      "hash": "49d2ad84b55b4dd13fa90d845855b9525e9919441b5a45aaf0c8ce322013341e"
    },
    "kernelspec": {
      "name": "python383jvsc74a57bd049d2ad84b55b4dd13fa90d845855b9525e9919441b5a45aaf0c8ce322013341e",
      "display_name": "Python 3.8.3 64-bit ('base': conda)"
    },
    "language_info": {
      "codemirror_mode": {
        "name": "ipython",
        "version": 3
      },
      "file_extension": ".py",
      "mimetype": "text/x-python",
      "name": "python",
      "nbconvert_exporter": "python",
      "pygments_lexer": "ipython3",
      "version": "3.8.3"
    },
    "orig_nbformat": 2
  },
  "nbformat": 4,
  "nbformat_minor": 0
}